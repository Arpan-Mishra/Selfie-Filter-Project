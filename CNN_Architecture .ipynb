{
 "cells": [
  {
   "cell_type": "code",
   "execution_count": 2,
   "metadata": {},
   "outputs": [],
   "source": [
    "import numpy as np\n",
    "import cv2\n",
    "import tensorflow as tf\n",
    "from tensorflow.keras.preprocessing.image import ImageDataGenerator\n",
    "import matplotlib.pyplot as plt"
   ]
  },
  {
   "cell_type": "code",
   "execution_count": 3,
   "metadata": {},
   "outputs": [],
   "source": [
    "X = np.load('Image_array.npy',allow_pickle=True)\n",
    "y = np.load('Keypoints_array.npy',allow_pickle=True)"
   ]
  },
  {
   "cell_type": "markdown",
   "metadata": {},
   "source": [
    "Creating Neural Network Architecture"
   ]
  },
  {
   "cell_type": "code",
   "execution_count": null,
   "metadata": {},
   "outputs": [],
   "source": [
    "model = tf.keras.Sequential()\n",
    "\n",
    "#Convolution layer 1\n",
    "model.add(tf.keras.layers.Conv2D(32,(4,4),input_shape = (96,96,1),activation = 'elu',\n",
    "          kernel_initializer = tf.keras.initializers.GlorotUniform(seed = 0)))\n",
    "model.add(tf.keras.layers.MaxPool2D((2,2),strides=2))\n",
    "model.add(tf.keras.layers.Dropout(0.1))\n",
    "\n",
    "#Convolution Layer 2\n",
    "model.add(tf.keras.layers.Conv2D(64,(3,3),activation='elu',\n",
    "          kernel_initializer = tf.keras.initializers.GlorotUniform(seed=0)))\n",
    "model.add(tf.keras.layers.MaxPool2D((2,2),strides=2))\n",
    "model.add(tf.keras.layers.Dropout(0.2))\n",
    "          \n",
    "\n",
    "#Convolution Layer 3\n",
    "model.add(tf.keras.layers.Conv2D(128,(2,2),activation = 'elu',\n",
    "          kernel_initializer = tf.keras.initializers.GlorotUniform(seed=0)))\n",
    "model.add(tf.keras.layers.MaxPool2D((2,2),strides=2))\n",
    "model.add(tf.keras.layers.Dropout(0.3))         \n",
    "\n",
    "\n",
    "#Convolution Layer 4\n",
    "model.add(tf.keras.layers.Conv2D(256,(1,1),activation = 'elu',\n",
    "          kernel_initializer = tf.keras.initializers.GlorotUniform(seed=0)))\n",
    "model.add(tf.keras.layers.MaxPool2D((2,2),strides=2))\n",
    "model.add(tf.keras.layers.Dropout(0.4))    \n",
    "\n",
    "# Flatten\n",
    "model.add(tf.keras.layers.Flatten())     \n",
    "\n",
    "# Fully Connected 1\n",
    "model.add(tf.keras.layers.Dense(1000,activation='elu'))\n",
    "model.add(tf.keras.layers.Dropout(0.5))    \n",
    "\n",
    "# Fully Connected 2\n",
    "model.add(tf.keras.layers.Dense(1000,activation='elu'))\n",
    "model.add(tf.keras.layers.Dropout(0.6))    \n",
    "\n",
    "# Output\n",
    "model.add(tf.keras.layers.Dense(30,activation='linear'))"
   ]
  },
  {
   "cell_type": "markdown",
   "metadata": {},
   "source": [
    "Model Compilation and Summary"
   ]
  },
  {
   "cell_type": "code",
   "execution_count": null,
   "metadata": {},
   "outputs": [],
   "source": [
    "opt = tf.keras.optimizers.Adam(learning_rate=0.0005,beta_1=0.9,beta_2=0.99,epsilon=1e-8)\n",
    "\n",
    "model.compile(optimizer=opt, loss = 'mean_squared_error',metrics = ['mae'])\n",
    "model.summary()"
   ]
  },
  {
   "cell_type": "markdown",
   "metadata": {},
   "source": [
    "Splitting the data for training and Validation"
   ]
  },
  {
   "cell_type": "code",
   "execution_count": 4,
   "metadata": {},
   "outputs": [
    {
     "name": "stdout",
     "output_type": "stream",
     "text": [
      "Train Images: 5639\n",
      "Train Keypoints: 5639\n",
      "Validation Images: 1410\n",
      "Validation Keypoints: 1410\n"
     ]
    }
   ],
   "source": [
    "from sklearn.model_selection import train_test_split\n",
    "\n",
    "X_train,X_val,y_train,y_val = train_test_split(X,y,test_size = 0.2,shuffle = True, random_state = 0)\n",
    "\n",
    "# sanity check\n",
    "print('Train Images: '+ str(len(X_train)))\n",
    "print('Train Keypoints: '+ str(len(y_train)))\n",
    "print('Validation Images: '+ str(len(X_val)))\n",
    "print('Validation Keypoints: '+ str(len(y_val)))"
   ]
  },
  {
   "cell_type": "markdown",
   "metadata": {},
   "source": [
    "Image Generator for Scaling and Data Augmentation"
   ]
  },
  {
   "cell_type": "code",
   "execution_count": null,
   "metadata": {},
   "outputs": [],
   "source": [
    "train_datagen = ImageDataGenerator(rescale=1./255., \n",
    "                                   zoom_range=0.1,\n",
    "                                   rotation_range=20,\n",
    "                                   #horizontal_flip=True,\n",
    "                                   height_shift_range=0.1,\n",
    "                                   width_shift_range = 0.2,\n",
    "                                   fill_mode = 'nearest',\n",
    "                                   brightness_range = [0.7,1.3])\n",
    "\n",
    "validation_dategen = ImageDataGenerator(rescale=1./255.)"
   ]
  },
  {
   "cell_type": "markdown",
   "metadata": {},
   "source": [
    "Fitting the Model"
   ]
  },
  {
   "cell_type": "code",
   "execution_count": null,
   "metadata": {},
   "outputs": [],
   "source": [
    "#parameters\n",
    "\n",
    "batch_size = 128\n",
    "epochs = 200\n",
    "\n",
    "history = model.fit(train_datagen.flow(X_train,y_train,batch_size=batch_size),\n",
    "                    epochs=epochs,\n",
    "                    steps_per_epoch=len(X_train)//batch_size, \n",
    "                    validation_data = validation_dategen.flow(X_val,y_val,batch_size = batch_size),\n",
    "                    validation_steps = len(X_val)//batch_size)\n",
    "                                                         \n"
   ]
  },
  {
   "cell_type": "code",
   "execution_count": null,
   "metadata": {},
   "outputs": [],
   "source": [
    "epochs_ticks = range(epochs)\n",
    "loss = history.history['loss']\n",
    "val_loss = history.history['val_loss']\n",
    "\n",
    "mae = history.history['mae']\n",
    "val_mae = history.history['val_mae']                   \n",
    "\n",
    "# plotting loss\n",
    "plt.figure(figsize=(10,8),dpi=60)\n",
    "plt.title('Epochs vs Loss')\n",
    "plt.plot(epochs_ticks,loss,'b-',label = 'Train Loss')\n",
    "plt.plot(epochs_ticks,val_loss,'r-',label = 'Validation Loss')\n",
    "plt.legend(loc = 'best')\n",
    "\n",
    "# plotting metrics\n",
    "plt.figure(figsize=(10,8),dpi=60)\n",
    "plt.title('Epochs vs MAE')\n",
    "plt.plot(epochs_ticks,mae,'b-',label = 'Train MAE')\n",
    "plt.plot(epochs_ticks,val_mae,'r-',label = 'Validation MAE')\n",
    "plt.legend(loc = 'best')\n",
    "\n",
    "plt.show()"
   ]
  },
  {
   "cell_type": "markdown",
   "metadata": {},
   "source": [
    "Plotting the predicted keypoints"
   ]
  },
  {
   "cell_type": "code",
   "execution_count": null,
   "metadata": {},
   "outputs": [],
   "source": [
    "prediction_val = model.predict(X_val/255.)"
   ]
  },
  {
   "cell_type": "code",
   "execution_count": null,
   "metadata": {},
   "outputs": [],
   "source": [
    "import random\n",
    "i=0\n",
    "for i in range(4):\n",
    "    idx = random.randint(1,len(X_val))\n",
    "    image = X[idx].reshape(96,96)\n",
    "    keypoint_true = y_val[idx]\n",
    "    keypoint_pred = prediction_val[idx]\n",
    "    plt.imshow(image,cmap = 'gray')\n",
    "    for i in range(1,31,2):\n",
    "        plt.plot(keypoint_true[i-1],keypoint_true[i],'r.')\n",
    "        plt.plot(keypoint_pred[i-1],keypoint_pred[i],'b.')\n",
    "        plt.xticks([]),plt.yticks([])\n",
    "plt.show()"
   ]
  },
  {
   "cell_type": "markdown",
   "metadata": {},
   "source": [
    "Saving the model"
   ]
  },
  {
   "cell_type": "code",
   "execution_count": null,
   "metadata": {},
   "outputs": [],
   "source": [
    "model.save('Keypoint_CNN.h5')"
   ]
  }
 ],
 "metadata": {
  "kernelspec": {
   "display_name": "Python 3",
   "language": "python",
   "name": "python3"
  },
  "language_info": {
   "codemirror_mode": {
    "name": "ipython",
    "version": 3
   },
   "file_extension": ".py",
   "mimetype": "text/x-python",
   "name": "python",
   "nbconvert_exporter": "python",
   "pygments_lexer": "ipython3",
   "version": "3.6.5"
  }
 },
 "nbformat": 4,
 "nbformat_minor": 2
}
